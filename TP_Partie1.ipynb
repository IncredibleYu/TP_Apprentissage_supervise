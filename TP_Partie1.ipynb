{
 "cells": [
  {
   "cell_type": "markdown",
   "id": "ff3300e5",
   "metadata": {},
   "source": [
    "# Partie 1"
   ]
  },
  {
   "cell_type": "markdown",
   "id": "29c920d0",
   "metadata": {},
   "source": [
    "## Read datasets"
   ]
  },
  {
   "cell_type": "code",
   "execution_count": 1,
   "id": "72f2f4b5",
   "metadata": {},
   "outputs": [
    {
     "name": "stdout",
     "output_type": "stream",
     "text": [
      "Features:\n",
      "   AGEP  COW  SCHL  MAR    OCCP  POBP  RELP  WKHP  SEX  RAC1P\n",
      "0  30.0  6.0  14.0  1.0  9610.0   6.0  16.0  40.0  1.0    8.0\n",
      "1  21.0  4.0  16.0  5.0  1970.0   6.0  17.0  20.0  1.0    1.0\n",
      "2  65.0  2.0  22.0  5.0  2040.0   6.0  17.0   8.0  1.0    1.0\n",
      "3  33.0  1.0  14.0  3.0  9610.0  36.0  16.0  40.0  1.0    1.0\n",
      "4  18.0  2.0  19.0  5.0  1021.0   6.0  17.0  18.0  2.0    1.0\n",
      "\n",
      "Labels:\n",
      "   PINCP\n",
      "0  False\n",
      "1  False\n",
      "2  False\n",
      "3  False\n",
      "4  False\n"
     ]
    }
   ],
   "source": [
    "import pandas as pd\n",
    "\n",
    "features_df = pd.read_csv('/home/yduan/5aS9/Apprentissage_supervise/acsincome_ca_features.csv')\n",
    "labels_df = pd.read_csv('/home/yduan/5aS9/Apprentissage_supervise/acsincome_ca_labels.csv')\n",
    "#features_df = pd.read_csv('/home/yduan/5aS9/Apprentissage_supervise/TP2-complementary_data/acsincome_co_allfeaturesTP2.csv')\n",
    "#labels_df = pd.read_csv('/home/yduan/5aS9/Apprentissage_supervise/TP2-complementary_data/acsincome_co_labelTP2.csv')\n",
    "\n",
    "#features_df = pd.read_csv('/home/yduan/5aS9/Apprentissage_supervise/TP2-complementary_data/acsincome_ne_allfeaturesTP2.csv')\n",
    "#labels_df = pd.read_csv('/home/yduan/5aS9/Apprentissage_supervise/TP2-complementary_data/acsincome_ne_labelTP2.csv')\n",
    "\n",
    "print(\"Features:\")\n",
    "print(features_df.head())\n",
    "\n",
    "print(\"\\nLabels:\")\n",
    "print(labels_df.head())\n"
   ]
  },
  {
   "cell_type": "code",
   "execution_count": 2,
   "id": "ea8d75f9",
   "metadata": {},
   "outputs": [
    {
     "name": "stdout",
     "output_type": "stream",
     "text": [
      "[[-0.85557743  2.04252293 -1.13389037 ...  0.16386303 -0.94548485\n",
      "   1.69004724]\n",
      " [-1.46022986  0.98310027 -0.62659193 ... -1.37235168 -0.94548485\n",
      "  -0.71091703]\n",
      " [ 1.49584869 -0.0763224   0.89530338 ... -2.29408051 -0.94548485\n",
      "  -0.71091703]\n",
      " ...\n",
      " [ 1.22711427 -0.60603373  0.13435572 ...  0.54791671 -0.94548485\n",
      "  -0.71091703]\n",
      " [ 1.7645831   2.57223426  1.40260181 ...  0.54791671 -0.94548485\n",
      "   1.00405745]\n",
      " [-0.18374139 -0.60603373 -0.37294272 ...  0.16386303 -0.94548485\n",
      "   1.69004724]]\n"
     ]
    }
   ],
   "source": [
    "from sklearn.preprocessing import StandardScaler\n",
    "\n",
    "scalerX = StandardScaler().fit(features_df)\n",
    "#scalerY = StandardScaler().fit(labels_df)\n",
    "\n",
    "features_scaled = scalerX.transform(features_df)\n",
    "#labels_scaled = scalerY.transform(labels_df)\n",
    "\n",
    "print(features_scaled)\n",
    "#print(labels_scaled)"
   ]
  },
  {
   "cell_type": "code",
   "execution_count": 3,
   "id": "271b5f6b",
   "metadata": {},
   "outputs": [],
   "source": [
    "from sklearn.utils import shuffle\n",
    "\n",
    "X_all = features_scaled\n",
    "y_all = labels_df\n",
    "\n",
    "X_all, y_all = shuffle(X_all, y_all, random_state=1)\n",
    "\n",
    "num_samples = int(len(X_all) * 0.01)\n",
    "X, y = X_all[:num_samples], y_all[:num_samples]\n",
    "y = y.values.ravel()"
   ]
  },
  {
   "cell_type": "code",
   "execution_count": 4,
   "id": "447a3006",
   "metadata": {},
   "outputs": [],
   "source": [
    "from sklearn.model_selection import train_test_split\n",
    "\n",
    "X_train, X_test, y_train, y_test = train_test_split(X, y, test_size=0.2, random_state=42)\n"
   ]
  },
  {
   "cell_type": "code",
   "execution_count": 5,
   "id": "622d73cb",
   "metadata": {},
   "outputs": [],
   "source": [
    "from sklearn.model_selection import cross_val_score, GridSearchCV\n",
    "from sklearn.metrics import accuracy_score, classification_report, confusion_matrix"
   ]
  },
  {
   "cell_type": "markdown",
   "id": "262a07e9",
   "metadata": {},
   "source": [
    "\n",
    "## SVM"
   ]
  },
  {
   "cell_type": "markdown",
   "id": "2ba76f4d",
   "metadata": {},
   "source": [
    "### Validation Croisée"
   ]
  },
  {
   "cell_type": "code",
   "execution_count": 6,
   "id": "b16307f2",
   "metadata": {},
   "outputs": [
    {
     "name": "stdout",
     "output_type": "stream",
     "text": [
      "Validation croisée average score =  0.7966719914802981\n"
     ]
    }
   ],
   "source": [
    "from sklearn.svm import SVC\n",
    "svm_model = SVC(kernel='linear')\n",
    "cv_scores = cross_val_score(svm_model, X_train, y_train, cv=5).mean()\n",
    "print(\"Validation croisée average score = \", cv_scores)"
   ]
  },
  {
   "cell_type": "markdown",
   "id": "a35f9599",
   "metadata": {},
   "source": [
    "### Accuracy & Classification report & Confusion matrix"
   ]
  },
  {
   "cell_type": "code",
   "execution_count": 7,
   "id": "0a0ab34f",
   "metadata": {},
   "outputs": [
    {
     "name": "stdout",
     "output_type": "stream",
     "text": [
      "Accuracy =  0.7653061224489796\n",
      "Classification_rep = \n",
      "               precision    recall  f1-score   support\n",
      "\n",
      "       False       0.81      0.78      0.80       230\n",
      "        True       0.70      0.75      0.72       162\n",
      "\n",
      "    accuracy                           0.77       392\n",
      "   macro avg       0.76      0.76      0.76       392\n",
      "weighted avg       0.77      0.77      0.77       392\n",
      "\n",
      "Confusion_matrix = \n",
      " [[179  51]\n",
      " [ 41 121]]\n"
     ]
    }
   ],
   "source": [
    "svm_model.fit(X_train, y_train)\n",
    "y_pred_svm = svm_model.predict(X_test)\n",
    "accuracy = accuracy_score(y_test, y_pred_svm)\n",
    "classification_rep = classification_report(y_test, y_pred_svm)\n",
    "conf_matrix = confusion_matrix(y_test, y_pred_svm)\n",
    "\n",
    "print(\"Accuracy = \",accuracy)\n",
    "print(\"Classification_rep = \\n\", classification_rep)\n",
    "print(\"Confusion_matrix = \\n\", conf_matrix)"
   ]
  },
  {
   "cell_type": "markdown",
   "id": "ed2b168a",
   "metadata": {},
   "source": [
    "### Grid Search for best parameters"
   ]
  },
  {
   "cell_type": "code",
   "execution_count": 8,
   "id": "6563f622",
   "metadata": {},
   "outputs": [
    {
     "name": "stdout",
     "output_type": "stream",
     "text": [
      "best_params =  {'C': 1, 'kernel': 'rbf'}\n"
     ]
    }
   ],
   "source": [
    "param_grid = {'C': [0.1, 1, 10, 20], 'kernel': ['rbf', 'poly']}\n",
    "grid_search = GridSearchCV(SVC(), param_grid, cv=5)\n",
    "grid_search.fit(X_train, y_train)\n",
    "best_params = grid_search.best_params_\n",
    "\n",
    "print(\"best_params = \", best_params)"
   ]
  },
  {
   "cell_type": "markdown",
   "id": "1f8e76e4",
   "metadata": {},
   "source": [
    "\n",
    "## RandomForest"
   ]
  },
  {
   "cell_type": "markdown",
   "id": "c3a7ce1a",
   "metadata": {},
   "source": [
    "### Validation Croisée"
   ]
  },
  {
   "cell_type": "code",
   "execution_count": 9,
   "id": "62c58c36",
   "metadata": {},
   "outputs": [
    {
     "name": "stdout",
     "output_type": "stream",
     "text": [
      "validation croisée average score =  0.7960350618497583\n"
     ]
    }
   ],
   "source": [
    "from sklearn.ensemble import RandomForestClassifier\n",
    "\n",
    "rf_model = RandomForestClassifier()\n",
    "cv_scores_rf = cross_val_score(rf_model, X_train, y_train, cv=5).mean()\n",
    "print(\"validation croisée average score = \", cv_scores_rf)"
   ]
  },
  {
   "cell_type": "markdown",
   "id": "59a35fea",
   "metadata": {},
   "source": [
    "### Accuracy & Classification report & Confusion matrix"
   ]
  },
  {
   "cell_type": "code",
   "execution_count": 10,
   "id": "5a51ba56",
   "metadata": {},
   "outputs": [
    {
     "name": "stdout",
     "output_type": "stream",
     "text": [
      "Accuracy =  0.7678571428571429\n",
      "Classification_rep = \n",
      "               precision    recall  f1-score   support\n",
      "\n",
      "       False       0.81      0.80      0.80       230\n",
      "        True       0.72      0.73      0.72       162\n",
      "\n",
      "    accuracy                           0.77       392\n",
      "   macro avg       0.76      0.76      0.76       392\n",
      "weighted avg       0.77      0.77      0.77       392\n",
      "\n",
      "Confusion_matrix = \n",
      " [[183  47]\n",
      " [ 44 118]]\n"
     ]
    }
   ],
   "source": [
    "rf_model.fit(X_train, y_train)\n",
    "y_pred_rf = rf_model.predict(X_test)\n",
    "accuracy_rf = accuracy_score(y_test, y_pred_rf)\n",
    "classification_rep_rf = classification_report(y_test, y_pred_rf)\n",
    "conf_matrix_rf = confusion_matrix(y_test, y_pred_rf)\n",
    "\n",
    "print(\"Accuracy = \",accuracy_rf)\n",
    "print(\"Classification_rep = \\n\", classification_rep_rf)\n",
    "print(\"Confusion_matrix = \\n\", conf_matrix_rf)"
   ]
  },
  {
   "cell_type": "markdown",
   "id": "e1cb315b",
   "metadata": {},
   "source": [
    "### Grid Search for best parameters"
   ]
  },
  {
   "cell_type": "code",
   "execution_count": 11,
   "id": "e818f501",
   "metadata": {},
   "outputs": [
    {
     "name": "stdout",
     "output_type": "stream",
     "text": [
      "best_params =  {'criterion': 'gini', 'max_depth': 10, 'min_samples_split': 2, 'n_estimators': 50}\n"
     ]
    }
   ],
   "source": [
    "param_grid_rf = {'n_estimators': [50, 100, 120],'criterion':['gini','entropy','log_loss'],'max_depth': [None, 10, 20],'min_samples_split':[0.1, 1.0, 2]}\n",
    "grid_search_rf = GridSearchCV(RandomForestClassifier(), param_grid_rf, cv=5)\n",
    "grid_search_rf.fit(X_train, y_train)\n",
    "best_params_rf = grid_search_rf.best_params_\n",
    "print(\"best_params = \", best_params_rf)"
   ]
  },
  {
   "cell_type": "markdown",
   "id": "cbcc3b7a",
   "metadata": {},
   "source": [
    "## AdaBoost"
   ]
  },
  {
   "cell_type": "markdown",
   "id": "0e2541ab",
   "metadata": {},
   "source": [
    "### Validation Croisée"
   ]
  },
  {
   "cell_type": "code",
   "execution_count": 12,
   "id": "c1d84fc8",
   "metadata": {},
   "outputs": [
    {
     "name": "stdout",
     "output_type": "stream",
     "text": [
      "Validation croisée average score =  0.7992360940444009\n"
     ]
    }
   ],
   "source": [
    "from sklearn.ensemble import AdaBoostClassifier\n",
    "\n",
    "ab_model = AdaBoostClassifier()\n",
    "cv_scores_ab = cross_val_score(ab_model, X_train, y_train, cv=5).mean()\n",
    "print(\"Validation croisée average score = \", cv_scores_ab)"
   ]
  },
  {
   "cell_type": "markdown",
   "id": "28d5709e",
   "metadata": {},
   "source": [
    "### Accuracy & Classification report & Confusion matrix"
   ]
  },
  {
   "cell_type": "code",
   "execution_count": 13,
   "id": "249d6252",
   "metadata": {},
   "outputs": [
    {
     "name": "stdout",
     "output_type": "stream",
     "text": [
      "Accuracy =  0.7729591836734694\n",
      "Classification_rep = \n",
      "               precision    recall  f1-score   support\n",
      "\n",
      "       False       0.80      0.82      0.81       230\n",
      "        True       0.73      0.71      0.72       162\n",
      "\n",
      "    accuracy                           0.77       392\n",
      "   macro avg       0.77      0.76      0.76       392\n",
      "weighted avg       0.77      0.77      0.77       392\n",
      "\n",
      "Confusion_matrix = \n",
      " [[188  42]\n",
      " [ 47 115]]\n"
     ]
    }
   ],
   "source": [
    "ab_model.fit(X_train, y_train)\n",
    "y_pred_ab = ab_model.predict(X_test)\n",
    "accuracy_ab = accuracy_score(y_test, y_pred_ab)\n",
    "classification_rep_ab = classification_report(y_test, y_pred_ab)\n",
    "conf_matrix_ab = confusion_matrix(y_test, y_pred_ab)\n",
    "\n",
    "print(\"Accuracy = \",accuracy_ab)\n",
    "print(\"Classification_rep = \\n\", classification_rep_ab)\n",
    "print(\"Confusion_matrix = \\n\", conf_matrix_ab)"
   ]
  },
  {
   "cell_type": "markdown",
   "id": "ccc67677",
   "metadata": {},
   "source": [
    "### Grid Search for best parameters"
   ]
  },
  {
   "cell_type": "code",
   "execution_count": 14,
   "id": "5b62d885",
   "metadata": {},
   "outputs": [
    {
     "name": "stdout",
     "output_type": "stream",
     "text": [
      "best_params =  {'algorithm': 'SAMME.R', 'learning_rate': 0.5, 'n_estimators': 20}\n"
     ]
    }
   ],
   "source": [
    "param_grid_ab = {'n_estimators': [20, 50, 100],'algorithm':['SAMME','SAMME.R'],'learning_rate': [0.5, 1.0, 1.5]}\n",
    "grid_search_ab = GridSearchCV(AdaBoostClassifier(), param_grid_ab, cv=5)\n",
    "grid_search_ab.fit(X_train, y_train)\n",
    "best_params_ab = grid_search_ab.best_params_\n",
    "print(\"best_params = \", best_params_ab)"
   ]
  },
  {
   "cell_type": "markdown",
   "id": "93517b11",
   "metadata": {},
   "source": [
    "## GradientBoosting"
   ]
  },
  {
   "cell_type": "markdown",
   "id": "5446d805",
   "metadata": {},
   "source": [
    "### Validation Croisée"
   ]
  },
  {
   "cell_type": "code",
   "execution_count": 15,
   "id": "5e59991c",
   "metadata": {},
   "outputs": [
    {
     "name": "stdout",
     "output_type": "stream",
     "text": [
      "Validation croisée average score =  0.8081899729663308\n"
     ]
    }
   ],
   "source": [
    "from sklearn.ensemble import GradientBoostingClassifier\n",
    "\n",
    "gb_model = GradientBoostingClassifier()\n",
    "cv_scores_gb = cross_val_score(gb_model, X_train, y_train, cv=5).mean()\n",
    "print(\"Validation croisée average score = \", cv_scores_gb)"
   ]
  },
  {
   "cell_type": "markdown",
   "id": "26925fd8",
   "metadata": {},
   "source": [
    "### Accuracy & Classification report & Confusion matrix"
   ]
  },
  {
   "cell_type": "code",
   "execution_count": 16,
   "id": "a88f21cb",
   "metadata": {},
   "outputs": [
    {
     "name": "stdout",
     "output_type": "stream",
     "text": [
      "Accuracy =  0.7882653061224489\n",
      "Classification_rep = \n",
      "               precision    recall  f1-score   support\n",
      "\n",
      "       False       0.81      0.84      0.82       230\n",
      "        True       0.76      0.72      0.74       162\n",
      "\n",
      "    accuracy                           0.79       392\n",
      "   macro avg       0.78      0.78      0.78       392\n",
      "weighted avg       0.79      0.79      0.79       392\n",
      "\n",
      "Confusion_matrix = \n",
      " [[193  37]\n",
      " [ 46 116]]\n"
     ]
    }
   ],
   "source": [
    "gb_model.fit(X_train, y_train)\n",
    "y_pred_gb = gb_model.predict(X_test)\n",
    "accuracy_gb = accuracy_score(y_test, y_pred_gb)\n",
    "classification_rep_gb = classification_report(y_test, y_pred_gb)\n",
    "conf_matrix_gb = confusion_matrix(y_test, y_pred_gb)\n",
    "\n",
    "print(\"Accuracy = \",accuracy_gb)\n",
    "print(\"Classification_rep = \\n\", classification_rep_gb)\n",
    "print(\"Confusion_matrix = \\n\", conf_matrix_gb)"
   ]
  },
  {
   "cell_type": "markdown",
   "id": "8b3ebcf0",
   "metadata": {},
   "source": [
    "### Grid Search for best parameters"
   ]
  },
  {
   "cell_type": "code",
   "execution_count": 17,
   "id": "69a8f6d3",
   "metadata": {},
   "outputs": [
    {
     "name": "stdout",
     "output_type": "stream",
     "text": [
      "best_params =  {'criterion': 'friedman_mse', 'learning_rate': 0.5, 'loss': 'log_loss', 'n_estimators': 50, 'subsample': 1.0}\n"
     ]
    }
   ],
   "source": [
    "param_grid_gb = {'n_estimators': [50, 100, 150],'loss':['log_loss','exponential'],'learning_rate': [0.5, 1.0, 1.5],'criterion':['friedman_mse','squared_error'],'subsample': [0.5, 1.0]}\n",
    "grid_search_gb = GridSearchCV(GradientBoostingClassifier(), param_grid_gb, cv=5)\n",
    "grid_search_gb.fit(X_train, y_train)\n",
    "best_params_gb = grid_search_gb.best_params_\n",
    "print(\"best_params = \", best_params_gb)"
   ]
  },
  {
   "cell_type": "code",
   "execution_count": null,
   "id": "18f44f35",
   "metadata": {},
   "outputs": [],
   "source": []
  },
  {
   "cell_type": "code",
   "execution_count": null,
   "id": "d7d7bcec",
   "metadata": {},
   "outputs": [],
   "source": []
  },
  {
   "cell_type": "code",
   "execution_count": null,
   "id": "dae781a8",
   "metadata": {},
   "outputs": [],
   "source": []
  }
 ],
 "metadata": {
  "kernelspec": {
   "display_name": "Python 3 (ipykernel)",
   "language": "python",
   "name": "python3"
  },
  "language_info": {
   "codemirror_mode": {
    "name": "ipython",
    "version": 3
   },
   "file_extension": ".py",
   "mimetype": "text/x-python",
   "name": "python",
   "nbconvert_exporter": "python",
   "pygments_lexer": "ipython3",
   "version": "3.11.3"
  }
 },
 "nbformat": 4,
 "nbformat_minor": 5
}
